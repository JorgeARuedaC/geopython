{
 "cells": [
  {
   "cell_type": "markdown",
   "metadata": {},
   "source": [
    "[Geocoder](https://geocoder.readthedocs.io/) es una librería de Python para realizar trabajos de geocodifiación (obtener coordendas a partir de una dirección) y geocodificación inversa (obtener dirección a partir de coordenadas) mediante APIs de geocodificación tales como Google, Nominatim de OpenStreet, Bing, Yahoo, Here...\n",
    "\n",
    "Los pasos para usar este módulo son bastantes sencillos:\n",
    "\n",
    "- Tener instalado [Python](https://www.python.org/downloads/). Python 3 mejor que mejor....\n",
    "- Instalar el módulo en nuestro equipo por ejemplo usando el [instalador de paquetes pip](https://pypi.org/project/pip/) (pip install geocoder)\n",
    "\n",
    "Comenzamos importando el paquete Geocoder"
   ]
  },
  {
   "cell_type": "code",
   "execution_count": 3,
   "metadata": {},
   "outputs": [],
   "source": [
    "import geocoder"
   ]
  },
  {
   "cell_type": "markdown",
   "metadata": {},
   "source": [
    "Una vez importada la librería podemos usar sus funciones. En la sisguiente línea un ejemplo de geocodificación de una dirección usando el servicio de Google"
   ]
  },
  {
   "cell_type": "code",
   "execution_count": 4,
   "metadata": {},
   "outputs": [],
   "source": [
    "loc = geocoder.google('Calle El Almendro 6, Córdoba, Spain')"
   ]
  },
  {
   "cell_type": "markdown",
   "metadata": {},
   "source": [
    "Podemos comprobar que la dirección ha sido indetificada imprimiendo la variale"
   ]
  },
  {
   "cell_type": "code",
   "execution_count": 5,
   "metadata": {},
   "outputs": [
    {
     "data": {
      "text/plain": [
       "<[OK] Google - Geocode [Calle el Almendro, 6, 14006 Córdoba, Spain]>"
      ]
     },
     "execution_count": 5,
     "metadata": {},
     "output_type": "execute_result"
    }
   ],
   "source": [
    "loc"
   ]
  },
  {
   "cell_type": "markdown",
   "metadata": {},
   "source": [
    "Para obtener las coordenadadas accedemos a los atributos"
   ]
  },
  {
   "cell_type": "code",
   "execution_count": 6,
   "metadata": {},
   "outputs": [
    {
     "data": {
      "text/plain": [
       "[37.8961199, -4.7830962]"
      ]
     },
     "execution_count": 6,
     "metadata": {},
     "output_type": "execute_result"
    }
   ],
   "source": [
    "loc.latlng"
   ]
  },
  {
   "cell_type": "markdown",
   "metadata": {},
   "source": [
    "Al presentarse como una lista, el acceso a la latitud y longitud de forma independiente se realiza mediante su índice"
   ]
  },
  {
   "cell_type": "code",
   "execution_count": 10,
   "metadata": {},
   "outputs": [
    {
     "name": "stdout",
     "output_type": "stream",
     "text": [
      "Latitud: 37.8961199 Longitud: -4.7830962\n"
     ]
    }
   ],
   "source": [
    "print('Latitud: {} Longitud: {}'.format(loc.latlng[0],loc.latlng[1]))"
   ]
  },
  {
   "cell_type": "markdown",
   "metadata": {},
   "source": [
    "Podemos usar otros servicios de geocodifiación, por ejemplo Nominatim de OpenStreetMap. en este caso geocodificamos na dirección por el nombre del inmueble."
   ]
  },
  {
   "cell_type": "code",
   "execution_count": 13,
   "metadata": {},
   "outputs": [
    {
     "data": {
      "text/plain": [
       "<[OK] Osm - Geocode [Hospital Universitario Virgen del Rocío, Calle Antonio Maura Montaner, Tabladilla-La Estrella, Distrito Sur, Sevilla, Andalucía, 41005, España]>"
      ]
     },
     "execution_count": 13,
     "metadata": {},
     "output_type": "execute_result"
    }
   ],
   "source": [
    "loc1 = geocoder.osm('Hospital Universitario Virgen del Rocío, Sevilla, Spain')\n",
    "loc1"
   ]
  },
  {
   "cell_type": "code",
   "execution_count": 14,
   "metadata": {},
   "outputs": [
    {
     "data": {
      "text/plain": [
       "[37.3629504, -5.97893023224876]"
      ]
     },
     "execution_count": 14,
     "metadata": {},
     "output_type": "execute_result"
    }
   ],
   "source": [
    "loc1.latlng"
   ]
  },
  {
   "cell_type": "code",
   "execution_count": null,
   "metadata": {},
   "outputs": [],
   "source": []
  }
 ],
 "metadata": {
  "kernelspec": {
   "display_name": "Python 3",
   "language": "python",
   "name": "python3"
  },
  "language_info": {
   "codemirror_mode": {
    "name": "ipython",
    "version": 3
   },
   "file_extension": ".py",
   "mimetype": "text/x-python",
   "name": "python",
   "nbconvert_exporter": "python",
   "pygments_lexer": "ipython3",
   "version": "3.6.5"
  }
 },
 "nbformat": 4,
 "nbformat_minor": 2
}

