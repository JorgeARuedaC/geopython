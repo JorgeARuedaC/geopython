{
 "cells": [
  {
   "cell_type": "markdown",
   "metadata": {},
   "source": [
    "[Geocoder](https://geocoder.readthedocs.io/) es una librería de Python para realizar trabajos de geocodifiación (obtener coordendas a partir de una dirección) y geocodificación inversa (obtener dirección a partir de coordenadas) mediante APIs de geocodificación tales como Google, Nominatim de OpenStreet, Bing, Yahoo, Here...\n",
    "\n",
    "Los pasos para usar este módulo son bastantes sencillos:\n",
    "\n",
    "- Tener instalado [Python](https://www.python.org/downloads/). Python 3 mejor que mejor....\n",
    "- Instalar el módulo en nuestro equipo por ejemplo usando el [instalador de paquetes pip](https://pypi.org/project/pip/) (pip install geocoder)\n",
    "\n",
    "Comenzamos importando el paquete Geocoder"
   ]
  },
  {
   "cell_type": "code",
   "execution_count": 1,
   "metadata": {},
   "outputs": [],
   "source": [
    "import geocoder"
   ]
  },
  {
   "cell_type": "markdown",
   "metadata": {},
   "source": [
    "Una vez importada la librería podemos usar sus funciones. En la sisguiente línea un ejemplo de geocodificación de una dirección usando el servicio de Google"
   ]
  },
  {
   "cell_type": "code",
   "execution_count": 2,
   "metadata": {},
   "outputs": [],
   "source": [
    "loc = geocoder.google('Calle El Almendro 6, Córdoba, Spain')"
   ]
  },
  {
   "cell_type": "markdown",
   "metadata": {},
   "source": [
    "Podemos comprobar que la dirección ha sido indetificada imprimiendo la variale"
   ]
  },
  {
   "cell_type": "code",
   "execution_count": 3,
   "metadata": {},
   "outputs": [
    {
     "data": {
      "text/plain": [
       "<[OK] Google - Geocode [Calle el Almendro, 6, 14006 Córdoba, Spain]>"
      ]
     },
     "execution_count": 3,
     "metadata": {},
     "output_type": "execute_result"
    }
   ],
   "source": [
    "loc"
   ]
  },
  {
   "cell_type": "markdown",
   "metadata": {},
   "source": [
    "Para obtener las coordenadadas accedemos a los atributos"
   ]
  },
  {
   "cell_type": "code",
   "execution_count": 4,
   "metadata": {},
   "outputs": [
    {
     "data": {
      "text/plain": [
       "[37.8961199, -4.7830962]"
      ]
     },
     "execution_count": 4,
     "metadata": {},
     "output_type": "execute_result"
    }
   ],
   "source": [
    "loc.latlng"
   ]
  },
  {
   "cell_type": "markdown",
   "metadata": {},
   "source": [
    "Al presentarse como una lista, el acceso a la latitud y longitud de forma independiente se realiza mediante su índice"
   ]
  },
  {
   "cell_type": "code",
   "execution_count": 5,
   "metadata": {},
   "outputs": [
    {
     "name": "stdout",
     "output_type": "stream",
     "text": [
      "Latitud: 37.8961199 Longitud: -4.7830962\n"
     ]
    }
   ],
   "source": [
    "print('Latitud: {} Longitud: {}'.format(loc.latlng[0],loc.latlng[1]))"
   ]
  },
  {
   "cell_type": "markdown",
   "metadata": {},
   "source": [
    "Podemos usar otros servicios de geocodifiación, por ejemplo Nominatim de OpenStreetMap. en este caso geocodificamos na dirección por el nombre del inmueble."
   ]
  },
  {
   "cell_type": "code",
   "execution_count": 6,
   "metadata": {},
   "outputs": [
    {
     "data": {
      "text/plain": [
       "<[OK] Osm - Geocode [Hospital Universitario Virgen del Rocío, Calle Antonio Maura Montaner, Tabladilla-La Estrella, Distrito Sur, Sevilla, Andalucía, 41005, España]>"
      ]
     },
     "execution_count": 6,
     "metadata": {},
     "output_type": "execute_result"
    }
   ],
   "source": [
    "loc1 = geocoder.osm('Hospital Universitario Virgen del Rocío, Sevilla, Spain')\n",
    "loc1"
   ]
  },
  {
   "cell_type": "code",
   "execution_count": 7,
   "metadata": {},
   "outputs": [
    {
     "data": {
      "text/plain": [
       "[37.3629504, -5.97893023224876]"
      ]
     },
     "execution_count": 7,
     "metadata": {},
     "output_type": "execute_result"
    }
   ],
   "source": [
    "loc1.latlng"
   ]
  },
  {
   "cell_type": "markdown",
   "metadata": {},
   "source": [
    "Añadimos el módulo CSV para trabajar con este tipo de archivos"
   ]
  },
  {
   "cell_type": "code",
   "execution_count": 8,
   "metadata": {},
   "outputs": [],
   "source": [
    "import csv"
   ]
  },
  {
   "cell_type": "markdown",
   "metadata": {},
   "source": [
    "Abrimos el fichero indicando el sistema de codificación del archivo. A continuación iteramos para ver los datos que posee."
   ]
  },
  {
   "cell_type": "code",
   "execution_count": 9,
   "metadata": {},
   "outputs": [
    {
     "name": "stdout",
     "output_type": "stream",
     "text": [
      "['id', 'direccion', 'tipo']\n",
      "['1', 'CALLE RONQUILLO BRICEÑO 10', '100']\n",
      "['2', 'CALLEJA DEL POSADERO 21', '100']\n",
      "['3', 'AVENIDA DEL MEDITERRÁNEO Y CALLE CANTÁBRICO', '200']\n",
      "['4', 'AVENIDA DE LIBIA', '200']\n",
      "['5', 'JARDINES DE LA AGRICULTURA', '300']\n",
      "['6', 'PLAN PARCIAL O7 PARCELA 12 B', '400']\n",
      "['7', 'IGLESIA DE LA TRINIDAD', '300']\n",
      "['8', 'CALLE DON LOPE DE LOS RÍOS 24', '100']\n",
      "['9', 'CALLE FUENTE DE LOS PICADORES 4', '300']\n",
      "['10', 'CALLE JOSE MARÍA VALDENEBRO 35 Y PREVISIÓN 24', '500']\n",
      "['11', 'CALLE MORISCOS 28', '100']\n",
      "['12', 'CALLE JULIO VALDELOMAR ESQUINA CALLE ANTÓN MONTORO', '600']\n",
      "['13', 'AVENIDA DE AMÉRICA 5', '100']\n",
      "['14', 'CALLE RONDA DE MARRUBIAL ESQUINA AGRUPACIÓN DE CÓRDOBA', '600']\n",
      "['15', 'CABALLERIZAS REALES', '300']\n",
      "['16', 'POLIGONO INDUSTRIAL LAS QUEMADAS', '200']\n",
      "['17', 'AVENIDA DE LAS OLLERÍAS', '200']\n",
      "['18', 'CALLE MARÍA CRISTINA 4', '100']\n",
      "['19', 'CALLE PINTOR MARIANO BELMONTE 5', '100']\n",
      "['20', 'CALLE CERRO 3', '100']\n"
     ]
    }
   ],
   "source": [
    "with open('csv_in.csv', encoding=\"utf8\") as csv_file:\n",
    "  csv_data = csv.reader(csv_file, delimiter=',', quotechar='\\'')\n",
    "  for row in csv_data:\n",
    "    print(row)"
   ]
  },
  {
   "cell_type": "markdown",
   "metadata": {},
   "source": [
    "Una vez cargados los datos y accediendo a la información de cada uno de ellos haremos correr el script para que nos busque las coordenadas. En este caso usaremos el servicio de Google al que **le hemos añadido el nombre de la ciudad, a comunidad autónoma y el país para limitar más la búsqueda**.\n",
    "\n",
    "El servicio de Google tiene algunas restricciones respecto al número de peticiones y tiempo entre peticiones. Tenemos que tener en cuenta ya que los resultados pueden variar.\n"
   ]
  },
  {
   "cell_type": "code",
   "execution_count": 10,
   "metadata": {},
   "outputs": [
    {
     "name": "stdout",
     "output_type": "stream",
     "text": [
      "id direccion tipo\n",
      "Coordenadas: [37.889395, -4.776749199999999]:\n",
      "1 CALLE RONQUILLO BRICEÑO 10 100\n",
      "Coordenadas: [37.881442, -4.7696885]:\n",
      "2 CALLEJA DEL POSADERO 21 100\n",
      "Coordenadas: None:\n",
      "3 AVENIDA DEL MEDITERRÁNEO Y CALLE CANTÁBRICO 200\n",
      "Coordenadas: None:\n",
      "4 AVENIDA DE LIBIA 200\n",
      "Coordenadas: [37.8913159, -4.7571579]:\n",
      "5 JARDINES DE LA AGRICULTURA 300\n",
      "Coordenadas: [37.8876884, -4.7856429]:\n",
      "6 PLAN PARCIAL O7 PARCELA 12 B 400\n",
      "Coordenadas: [37.8881751, -4.7793835]:\n",
      "7 IGLESIA DE LA TRINIDAD 300\n",
      "Coordenadas: None:\n",
      "8 CALLE DON LOPE DE LOS RÍOS 24 100\n",
      "Coordenadas: [37.8980935, -4.7769355]:\n",
      "9 CALLE FUENTE DE LOS PICADORES 4 300\n",
      "Coordenadas: [37.8959443, -4.785800399999999]:\n",
      "10 CALLE JOSE MARÍA VALDENEBRO 35 Y PREVISIÓN 24 500\n",
      "Coordenadas: [37.8792955, -4.7916745]:\n",
      "11 CALLE MORISCOS 28 100\n",
      "Coordenadas: None:\n",
      "12 CALLE JULIO VALDELOMAR ESQUINA CALLE ANTÓN MONTORO 600\n",
      "Coordenadas: [37.8870909, -4.7672471]:\n",
      "13 AVENIDA DE AMÉRICA 5 100\n",
      "Coordenadas: [37.8907273, -4.7819829]:\n",
      "14 CALLE RONDA DE MARRUBIAL ESQUINA AGRUPACIÓN DE CÓRDOBA 600\n",
      "Coordenadas: [37.8933605, -4.7689894]:\n",
      "15 CABALLERIZAS REALES 300\n",
      "Coordenadas: [37.8766372, -4.783135]:\n",
      "16 POLIGONO INDUSTRIAL LAS QUEMADAS 200\n",
      "Coordenadas: [37.90303180000001, -4.7244521]:\n",
      "17 AVENIDA DE LAS OLLERÍAS 200\n",
      "Coordenadas: [37.892047, -4.773498]:\n",
      "18 CALLE MARÍA CRISTINA 4 100\n",
      "Coordenadas: [37.8850085, -4.7771383]:\n",
      "19 CALLE PINTOR MARIANO BELMONTE 5 100\n",
      "Coordenadas: [37.8927635, -4.7853749]:\n",
      "20 CALLE CERRO 3 100\n",
      "Coordenadas: [37.8861559, -4.767593499999999]:\n"
     ]
    }
   ],
   "source": [
    "with open('csv_in.csv', encoding=\"utf8\") as csv_file:\n",
    "    csv_data = csv.reader(csv_file, delimiter=',', quotechar='\\'')\n",
    "    for row in csv_data:\n",
    "        print(row[0], row[1], row[2])\n",
    "        geodir = geocoder.google('{}, Córdoba, Andalucía, Spain'.format(row[1]))\n",
    "        print('Coordenadas: {}:'.format(geodir.latlng))\n"
   ]
  },
  {
   "cell_type": "markdown",
   "metadata": {},
   "source": [
    "Para terminar y ahorraremos un paso en el trabajo SIG posterior vamos a crear un archivo de tipo **geojson** (geo_results.geojson) con los resultados para lo cual necesitaremos usar la librería JSON. Creamos la estructura del archivo geográfico y vamos añadiendo la información de las coordenadas y los datos auxiliarea (id y tipo de expediente). \n",
    "\n",
    "Para los registros no localizados también vamos generar un informe que los almacene (report.txt).\n",
    "\n",
    "El código final sería el siguiente."
   ]
  },
  {
   "cell_type": "code",
   "execution_count": 11,
   "metadata": {},
   "outputs": [
    {
     "name": "stdout",
     "output_type": "stream",
     "text": [
      "1,CALLE RONQUILLO BRICEÑO 10,100,-4.7696885,37.881442\n",
      "2,CALLEJA DEL POSADERO 21,100,-4.7717183,37.8813662\n",
      "3,AVENIDA DEL MEDITERRÁNEO Y CALLE CANTÁBRICO,200,-4.8016214,37.8932353\n",
      "4,AVENIDA DE LIBIA,200,0,0\n",
      "5,JARDINES DE LA AGRICULTURA,300,-4.7856429,37.8876884\n",
      "6,PLAN PARCIAL O7 PARCELA 12 B,400,-4.7793835,37.8881751\n",
      "7,IGLESIA DE LA TRINIDAD,300,-4.7832253,37.8825864\n",
      "8,CALLE DON LOPE DE LOS RÍOS 24,100,-4.7769355,37.8980935\n",
      "9,CALLE FUENTE DE LOS PICADORES 4,300,-4.785800399999999,37.8959443\n",
      "10,CALLE JOSE MARÍA VALDENEBRO 35 Y PREVISIÓN 24,500,-4.7916745,37.8792955\n",
      "11,CALLE MORISCOS 28,100,-4.773073999999999,37.8905922\n",
      "12,CALLE JULIO VALDELOMAR ESQUINA CALLE ANTÓN MONTORO,600,-4.7672471,37.8870909\n",
      "13,AVENIDA DE AMÉRICA 5,100,-4.7819829,37.8907273\n",
      "14,CALLE RONDA DE MARRUBIAL ESQUINA AGRUPACIÓN DE CÓRDOBA,600,-4.7689894,37.8933605\n",
      "15,CABALLERIZAS REALES,300,0,0\n",
      "16,POLIGONO INDUSTRIAL LAS QUEMADAS,200,-4.7235637,37.9021637\n",
      "17,AVENIDA DE LAS OLLERÍAS,200,-4.773498,37.892047\n",
      "18,CALLE MARÍA CRISTINA 4,100,-4.7771383,37.8850085\n",
      "19,CALLE PINTOR MARIANO BELMONTE 5,100,-4.7853749,37.8927635\n",
      "20,CALLE CERRO 3,100,-4.767593499999999,37.8861559\n",
      "Number of matches 18/20\n"
     ]
    }
   ],
   "source": [
    "import csv\n",
    "import json\n",
    "\n",
    "import geocoder\n",
    "\n",
    "geojson = {\n",
    "    'type': 'FeatureCollection',\n",
    "    'features': []\n",
    "}\n",
    "report_noloc = ''\n",
    "results = 0\n",
    "total = 0\n",
    "\n",
    "with open('csv_in.csv', encoding=\"utf8\") as csv_file:\n",
    "    csv_data = csv.reader(csv_file, delimiter=',', quotechar='\\'')\n",
    "    next(csv_data) # skip header\n",
    "\n",
    "    for row in csv_data:\n",
    "        geodir = geocoder.google('{}, Córdoba, Andalucía, España'.format(row[1]))\n",
    "        total += 1\n",
    "        if geodir:\n",
    "            print('{},{},{},{},{}'.format(\n",
    "                int(row[0]), row[1], row[2], geodir.latlng[1], geodir.latlng[0]))\n",
    "            geojson['features'].append({\n",
    "                'type': 'Feature',\n",
    "                'geometry': {\n",
    "                    'type': 'Point',\n",
    "                    'coordinates': [geodir.latlng[1], geodir.latlng[0]],\n",
    "                },\n",
    "                \"properties\": {\n",
    "                    \"id\": row[0],\n",
    "                    \"direccion\": row[1],\n",
    "                    \"tipo\": row[2],\n",
    "                }\n",
    "            })\n",
    "            results += 1\n",
    "        else:\n",
    "            print('{},{},{},0,0'.format(int(row[0]), row[1], row[2]))\n",
    "            report_noloc += '{},{},{}\\n'.format(int(row[0]), row[1], row[2])\n",
    "\n",
    "    print('Number of matches {}/{}'.format(results, total))\n",
    "\n",
    "with open('geo_results.geojson', 'w') as geofile:\n",
    "    geofile.write(json.dumps(geojson, indent=2))\n",
    "\n",
    "with open('report.txt', 'w') as report_file:\n",
    "    report_file.write('Number of matches {}/{}\\n\\n'.format(results, total))\n",
    "    report_file.write(report_noloc)"
   ]
  },
  {
   "cell_type": "markdown",
   "metadata": {},
   "source": [
    "Podemos ver el resultado en la aplicación [geojson.io](http://geojson.io/)\n",
    "\n",
    "![geojsonio.PNG](geojsonio.PNG)"
   ]
  },
  {
   "cell_type": "code",
   "execution_count": null,
   "metadata": {},
   "outputs": [],
   "source": []
  }
 ],
 "metadata": {
  "kernelspec": {
   "display_name": "Python 3",
   "language": "python",
   "name": "python3"
  },
  "language_info": {
   "codemirror_mode": {
    "name": "ipython",
    "version": 3
   },
   "file_extension": ".py",
   "mimetype": "text/x-python",
   "name": "python",
   "nbconvert_exporter": "python",
   "pygments_lexer": "ipython3",
   "version": "3.6.5"
  }
 },
 "nbformat": 4,
 "nbformat_minor": 2
}
